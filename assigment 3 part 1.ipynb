{
 "cells": [
  {
   "cell_type": "code",
   "execution_count": 41,
   "id": "775d10a2-029a-4f29-b74e-1442182fcbeb",
   "metadata": {},
   "outputs": [
    {
     "name": "stdout",
     "output_type": "stream",
     "text": [
      "sahil is good boy\n"
     ]
    }
   ],
   "source": [
    "#que 1. What is the difference between a function and a method in Python.\n",
    "#:-1)Functions are defined globally within other functions.\n",
    "    # 2)Methods are always defined within a class.\n",
    "    # 3)Functions are defined outside classes.\n",
    "    # 4)Methods are defined inside a class.\n",
    "    # ex of function\n",
    "def add():\n",
    "    print('manthan is good in code')\n",
    "\n",
    "#ex of method\n",
    "class positive:\n",
    "    def greet(self):  \n",
    "        return 'sahil is good boy'\n",
    "\n",
    "obj = positive()\n",
    "print(obj.greet()) \n",
    "\n"
   ]
  },
  {
   "cell_type": "code",
   "execution_count": 43,
   "id": "83ed5237-eab3-4f0b-969e-f486d006d679",
   "metadata": {},
   "outputs": [
    {
     "name": "stdout",
     "output_type": "stream",
     "text": [
      "manthan is good in code\n"
     ]
    }
   ],
   "source": [
    "add()"
   ]
  },
  {
   "cell_type": "code",
   "execution_count": 137,
   "id": "605804ee-c2e4-4d01-b1fa-2a39fa4efff1",
   "metadata": {},
   "outputs": [
    {
     "name": "stdout",
     "output_type": "stream",
     "text": [
      "3\n"
     ]
    }
   ],
   "source": [
    "#que 2 Explain the concept of function arguments and parameters in Python.\n",
    "#1)Parameters are the variables listed inside the parentheses in the function\n",
    "#2)Arguments are the actual values that are passed to a function execution\n",
    "def sum(a,b):\n",
    "  print(a+b)\n",
    "  \n",
    "sum(1,2)\n",
    "# in this example the a,b is parameter\n",
    "#in this example the 1,2 is argument\n"
   ]
  },
  {
   "cell_type": "code",
   "execution_count": 320,
   "id": "3755548c-976b-433d-af5e-d4c66189cfe7",
   "metadata": {},
   "outputs": [],
   "source": [
    "#What are the different ways to define and call a function in Python?\n",
    "#it is a block of code which perform some specific task\n",
    "#the function are re-useble \n",
    "#The most common way to define a function in Python is by using the def keyword.\n",
    "def func_name():\n",
    "    print('sahil is good in codeing')\n"
   ]
  },
  {
   "cell_type": "code",
   "execution_count": 324,
   "id": "b9e8586c-3ffe-40ef-a0a9-02539524d231",
   "metadata": {},
   "outputs": [
    {
     "name": "stdout",
     "output_type": "stream",
     "text": [
      "sahil is good in codeing\n"
     ]
    }
   ],
   "source": [
    "func_name()"
   ]
  },
  {
   "cell_type": "code",
   "execution_count": 141,
   "id": "458a0070-9eeb-4b4d-b89d-758de991c708",
   "metadata": {},
   "outputs": [
    {
     "name": "stdout",
     "output_type": "stream",
     "text": [
      "16\n",
      "None\n"
     ]
    }
   ],
   "source": [
    "#que 4 What is the purpose of the return statement in a Python function?\n",
    "#1)The python return statement is used to return the output from a function.\n",
    "def square(x):\n",
    "    return x * x\n",
    "\n",
    "print(square(4))\n",
    "#2)If no return is include end of code, or it's used without a value, the function returns None by default.\n",
    "def square(x):\n",
    "     x * x\n",
    "print(square(4))\n"
   ]
  },
  {
   "cell_type": "code",
   "execution_count": 161,
   "id": "949a6e73-d300-462a-918a-a1c1b811d2bc",
   "metadata": {},
   "outputs": [
    {
     "name": "stdout",
     "output_type": "stream",
     "text": [
      "apple\n"
     ]
    }
   ],
   "source": [
    "#que 5 What are iterators in Python and how do they differ from iterables\n",
    "#1 Iterable is an  python object, or data struture that is capable of return its member at one time\n",
    "#2 It generates an Iterator when passed to iter() method. \n",
    "#3 An iterator is an object, representing the stream of data and return the data one by one using the __next__() method\n",
    "fruits = (\"apple\", \"banana\", \"cherry\")\n",
    "z = iter(fruits)\n",
    "print(next(z))\n"
   ]
  },
  {
   "cell_type": "code",
   "execution_count": 159,
   "id": "6291324c-5a5d-49f0-a513-d3b3b4866bc4",
   "metadata": {},
   "outputs": [
    {
     "name": "stdout",
     "output_type": "stream",
     "text": [
      "apple\n"
     ]
    }
   ],
   "source": [
    "print(next(z))\n"
   ]
  },
  {
   "cell_type": "code",
   "execution_count": 261,
   "id": "34e245f3-e54d-40a5-81cb-eaf397afbbf2",
   "metadata": {},
   "outputs": [
    {
     "data": {
      "text/plain": [
       "0"
      ]
     },
     "execution_count": 261,
     "metadata": {},
     "output_type": "execute_result"
    }
   ],
   "source": [
    "#que 6  Explain the concept of generators in Python and how they are defined.\n",
    "#1)A Generator in Python is a function that returns an iterator using the Yield keyword.\n",
    "#2) in generator function generate result one by one instest on one go.\n",
    "#ex\n",
    "def square_number_generators(n):\n",
    "    for i in range(n):\n",
    "        yield i**2\n",
    "\n",
    "square_number_generators(5)\n",
    "a=(square_number_generators(5))\n",
    "next(a)"
   ]
  },
  {
   "cell_type": "code",
   "execution_count": 263,
   "id": "bfeb3da9-4f1d-4fb9-b133-4d709071dae9",
   "metadata": {},
   "outputs": [
    {
     "data": {
      "text/plain": [
       "1"
      ]
     },
     "execution_count": 263,
     "metadata": {},
     "output_type": "execute_result"
    }
   ],
   "source": [
    "next(a)"
   ]
  },
  {
   "cell_type": "code",
   "execution_count": null,
   "id": "e1f04883-33a3-4c40-b4dd-0c8f91104a93",
   "metadata": {},
   "outputs": [],
   "source": [
    "#que 7What are the advantages of using generators over regular functions\n",
    "# memory efficiently: Generators only load data as needed, so they are great for working with large data sets or streams of data\n",
    "#Performance: Since values are generated on the fly, you avoid the overhead of generating all data at once.\n"
   ]
  },
  {
   "cell_type": "code",
   "execution_count": 279,
   "id": "d7b974ed-8110-47bb-9526-074a97d66738",
   "metadata": {},
   "outputs": [],
   "source": [
    "#que8 What is a lambda function in Python and when is it typically used?\n",
    "#1)A lambda function in Python is a concise way to create anonymous functions, also known as lambda expressions\n",
    "#2)the lambda function's no need of def keyword and return  statement\n",
    "sq_lambda = lambda x: x**2"
   ]
  },
  {
   "cell_type": "code",
   "execution_count": 283,
   "id": "53041980-f0ce-4372-a7b5-a2f97c6bc956",
   "metadata": {},
   "outputs": [
    {
     "data": {
      "text/plain": [
       "100"
      ]
     },
     "execution_count": 283,
     "metadata": {},
     "output_type": "execute_result"
    }
   ],
   "source": [
    "sq_lambda(10)"
   ]
  },
  {
   "cell_type": "code",
   "execution_count": 287,
   "id": "2e9884d2-ca02-4649-b3e0-fcb3c93b8938",
   "metadata": {},
   "outputs": [
    {
     "data": {
      "text/plain": [
       "[1, 4, 9, 16, 25]"
      ]
     },
     "execution_count": 287,
     "metadata": {},
     "output_type": "execute_result"
    }
   ],
   "source": [
    "#que9 Explain the purpose and usage of the `map()` function in Python\n",
    "#1)The map() function applies a function to every item of an iterable and returns an iterator with the results.\n",
    "#2)It can be a built-in function, a user-defined function, or a lambda function.\n",
    "#3) It is useful for applying a transformation to a sequence of data efficiently.\n",
    "l=[1,2,3,4,5]\n",
    "list(map(lambda x:x**2,l)) It is useful for applying a transformation to a sequence of data efficiently."
   ]
  },
  {
   "cell_type": "code",
   "execution_count": 289,
   "id": "85e2521d-346a-4377-a3ea-c55efd5c42cf",
   "metadata": {},
   "outputs": [],
   "source": [
    "#que10  What is the difference between `map()`, `reduce()`, and `filter()` functions in Python?\n",
    "#1)the map function is use for to Transforms each element in an iterable.\n",
    "#A map fuction is return an iterator or map object.\n",
    "\n",
    "#2)the filter function is use for Selects elements based on a condition\n",
    "#a map fuction is return an iterator or filter object\n",
    "\n",
    "#3)the reduce function is use for Reduces an iterable to a single value.\n",
    "#a reduce fuction is return an single accumulated value."
   ]
  },
  {
   "cell_type": "markdown",
   "id": "e11406b8-e74b-467a-ab7f-b0846487fa34",
   "metadata": {},
   "source": []
  },
  {
   "cell_type": "markdown",
   "id": "44e6753a-732e-4061-af91-11a82cdd2062",
   "metadata": {},
   "source": [
    "##part 2"
   ]
  },
  {
   "cell_type": "code",
   "execution_count": null,
   "id": "bd80ed76-53d2-42bf-b8a0-da96b1ebf020",
   "metadata": {},
   "outputs": [],
   "source": [
    "# que 1 Write a Python function that takes a list of numbers as input and returns the sum of all even numbers in the list.\n",
    "l = [1, 3, 5, 6, 8, 10, 34, 2, 0, 3]\n",
    "a = 0\n",
    "for i in l:\n",
    "     if not i%2:\n",
    "        a += i\n",
    "\n",
    "result"
   ]
  },
  {
   "cell_type": "code",
   "execution_count": null,
   "id": "676fe7a0-868f-4a76-a2f5-e32432b9847e",
   "metadata": {},
   "outputs": [],
   "source": [
    " #3 Implement a Python function that takes a list of "
   ]
  },
  {
   "cell_type": "code",
   "execution_count": null,
   "id": "b503145d-69e0-4fc6-b595-dda7ef44c2d4",
   "metadata": {},
   "outputs": [],
   "source": []
  },
  {
   "cell_type": "code",
   "execution_count": null,
   "id": "803c11c3-c21e-4cc6-a2e7-f7a5dc74bb78",
   "metadata": {},
   "outputs": [],
   "source": []
  },
  {
   "cell_type": "code",
   "execution_count": null,
   "id": "148fbbc7-c64a-4793-b361-f025b628eb6d",
   "metadata": {},
   "outputs": [],
   "source": []
  }
 ],
 "metadata": {
  "kernelspec": {
   "display_name": "Python 3 (ipykernel)",
   "language": "python",
   "name": "python3"
  },
  "language_info": {
   "codemirror_mode": {
    "name": "ipython",
    "version": 3
   },
   "file_extension": ".py",
   "mimetype": "text/x-python",
   "name": "python",
   "nbconvert_exporter": "python",
   "pygments_lexer": "ipython3",
   "version": "3.12.4"
  }
 },
 "nbformat": 4,
 "nbformat_minor": 5
}
