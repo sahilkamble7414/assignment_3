{
 "cells": [
  {
   "cell_type": "code",
   "execution_count": 15,
   "id": "ac9a839b-f7f7-448f-9845-9e739eecf062",
   "metadata": {},
   "outputs": [
    {
     "ename": "IndentationError",
     "evalue": "unexpected indent (731963416.py, line 4)",
     "output_type": "error",
     "traceback": [
      "\u001b[1;36m  Cell \u001b[1;32mIn[15], line 4\u001b[1;36m\u001b[0m\n\u001b[1;33m    for item in myList:\u001b[0m\n\u001b[1;37m    ^\u001b[0m\n\u001b[1;31mIndentationError\u001b[0m\u001b[1;31m:\u001b[0m unexpected indent\n"
     ]
    }
   ],
   "source": [
    "# que 1 Write a Python function that takes a list of numbers as input and returns the sum of all even numbers in the list.\n",
    "myList = [1, 3, 5, 6, 8, 10, 34, 2, 0, 3]\n",
    "result = 0\n",
    "  for item in myList:\n",
    "     if not item%2:\n",
    "             result += item\n",
    "\n",
    "result\n",
    "         "
   ]
  },
  {
   "cell_type": "code",
   "execution_count": 20,
   "id": "161f2f9a-e803-499b-97e7-748cb2c2ca18",
   "metadata": {},
   "outputs": [
    {
     "name": "stdout",
     "output_type": "stream",
     "text": [
      "edoc ni doog si lihas\n"
     ]
    }
   ],
   "source": [
    "# que 2  Create a Python function that accepts a string and returns the reverse of that string.\n",
    "def my_function(x):\n",
    "  return x[::-1]\n",
    "\n",
    "a = my_function(\"sahil is good in code\")\n",
    "\n",
    "print(a)"
   ]
  },
  {
   "cell_type": "code",
   "execution_count": 23,
   "id": "01700c61-a381-4c2e-9304-a9853cba0ac5",
   "metadata": {},
   "outputs": [],
   "source": [
    "#3 Implement a Python function that takes a list of integers and returns a new list containing the squares of each number.\n",
    "\n",
    "l = [1, 2, 3, 4, 5]\n",
    "def square(l):\n",
    "    sq = []\n",
    "    for i in l:\n",
    "        sq.append(i**2)\n",
    "    return sq"
   ]
  },
  {
   "cell_type": "code",
   "execution_count": 25,
   "id": "dad9a927-357d-46df-8e38-76a219569903",
   "metadata": {},
   "outputs": [
    {
     "data": {
      "text/plain": [
       "[1, 4, 9, 16, 25]"
      ]
     },
     "execution_count": 25,
     "metadata": {},
     "output_type": "execute_result"
    }
   ],
   "source": [
    "square(l)"
   ]
  },
  {
   "cell_type": "code",
   "execution_count": null,
   "id": "6185fa67-a17c-4e9d-b93b-33712d5af4e4",
   "metadata": {},
   "outputs": [],
   "source": [
    "#que4"
   ]
  },
  {
   "cell_type": "code",
   "execution_count": 43,
   "id": "225a4a2c-402f-44f0-85a3-7ad5b54a307c",
   "metadata": {},
   "outputs": [
    {
     "data": {
      "text/plain": [
       "[0, 1, 1, 2, 4, 7, 11, 16, 22, 29]"
      ]
     },
     "execution_count": 43,
     "metadata": {},
     "output_type": "execute_result"
    }
   ],
   "source": [
    "#que 5  Create an iterator class in Python that generates the Fibonacci sequence up to a specified number of terms\n",
    "fib = lambda n:n if n<=1 else fib (n-1)+(n-2)\n",
    "[fib(i) for i in range(10)]"
   ]
  },
  {
   "cell_type": "code",
   "execution_count": 4,
   "id": "d19f5034-2d07-4520-8f9c-fd1c6736a7bc",
   "metadata": {},
   "outputs": [
    {
     "data": {
      "text/plain": [
       "[1, 4, 9, 16]"
      ]
     },
     "execution_count": 4,
     "metadata": {},
     "output_type": "execute_result"
    }
   ],
   "source": [
    "#que6 Write a generator function in Python that yields the powers of 2 up to a given exponent\n",
    "x = [1, 2, 3, 4]\n",
    "\n",
    "def power(n):\n",
    "    return n ** 2\n",
    "\n",
    "list(map(power, x))\n"
   ]
  },
  {
   "cell_type": "code",
   "execution_count": 10,
   "id": "1c5d8605-a3ba-4ece-bc65-6c4efb52b4a5",
   "metadata": {},
   "outputs": [
    {
     "name": "stdout",
     "output_type": "stream",
     "text": [
      "[(1, 2), (2, 4), (3, 5), (4, 8)]\n"
     ]
    }
   ],
   "source": [
    "#que8  Use a lambda function in Python to sort a list of tuples based on the second element of each tuple.\n",
    "my_list = [(3, 5), (1, 2), (4, 8), (2, 4)]\n",
    "\n",
    "sorted_list = sorted(my_list, key=lambda x: x[1])\n",
    "\n",
    "print(sorted_list)"
   ]
  },
  {
   "cell_type": "code",
   "execution_count": 14,
   "id": "75ccd28a-06d6-4b78-812d-211e4f60d566",
   "metadata": {},
   "outputs": [
    {
     "name": "stdout",
     "output_type": "stream",
     "text": [
      "[32.0, 68.0, 98.6, 212.0]\n"
     ]
    }
   ],
   "source": [
    "#que9 Write a Python program that uses `map()` to convert a list of temperatures from Celsius to Fahrenheit\n",
    "def func(celsius):\n",
    "    return (celsius * 9/5) + 32\n",
    "temp = [0, 20, 37, 100]\n",
    "func = list(map(func, temp))\n",
    "print(func)"
   ]
  },
  {
   "cell_type": "code",
   "execution_count": 20,
   "id": "c08f8338-2feb-462d-829c-09bd22f7b103",
   "metadata": {},
   "outputs": [
    {
     "name": "stdout",
     "output_type": "stream",
     "text": [
      "shl s gd by \n"
     ]
    }
   ],
   "source": [
    "# que 10  Create a Python program that uses `filter()` to remove all the vowels from a given string.\n",
    "f = \"sahil is good boy \"\n",
    "result = f\n",
    "vowels = ('a', 'e', 'i', 'o', 'u')\n",
    "for x in f.lower():\n",
    "    if x in vowels:\n",
    "        result = result.replace(x, \"\")\n",
    "print( result)"
   ]
  },
  {
   "cell_type": "code",
   "execution_count": null,
   "id": "1a50174c-0357-4b2a-b3fb-f63d95002d4c",
   "metadata": {},
   "outputs": [],
   "source": []
  }
 ],
 "metadata": {
  "kernelspec": {
   "display_name": "Python 3 (ipykernel)",
   "language": "python",
   "name": "python3"
  },
  "language_info": {
   "codemirror_mode": {
    "name": "ipython",
    "version": 3
   },
   "file_extension": ".py",
   "mimetype": "text/x-python",
   "name": "python",
   "nbconvert_exporter": "python",
   "pygments_lexer": "ipython3",
   "version": "3.12.4"
  }
 },
 "nbformat": 4,
 "nbformat_minor": 5
}
